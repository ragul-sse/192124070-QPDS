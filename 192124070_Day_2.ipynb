{
  "nbformat": 4,
  "nbformat_minor": 0,
  "metadata": {
    "colab": {
      "provenance": [],
      "authorship_tag": "ABX9TyOkuSL7HcuroBAwO9qShrqw",
      "include_colab_link": true
    },
    "kernelspec": {
      "name": "python3",
      "display_name": "Python 3"
    },
    "language_info": {
      "name": "python"
    }
  },
  "cells": [
    {
      "cell_type": "markdown",
      "metadata": {
        "id": "view-in-github",
        "colab_type": "text"
      },
      "source": [
        "<a href=\"https://colab.research.google.com/github/manish-kumar-3/192124035-QPDS/blob/main/192124035_Day2.ipynb\" target=\"_parent\"><img src=\"https://colab.research.google.com/assets/colab-badge.svg\" alt=\"Open In Colab\"/></a>"
      ]
    },
    {
      "cell_type": "markdown",
      "source": [
        "9.\tWrite a Pandas program to create a Pivot table and find the total sale amount region wise, manager wise, sales man wise. .(refer sales_data table)"
      ],
      "metadata": {
        "id": "rdloLEhfThe7"
      }
    },
    {
      "cell_type": "code",
      "source": [
        "import pandas as pd\n",
        "\n",
        "# Sample data (replace this with your actual sales_data)\n",
        "data = {\n",
        "    'Region': ['North', 'North', 'South', 'South', 'East', 'East', 'West', 'West'],\n",
        "    'Manager': ['Alice', 'Alice', 'Bob', 'Bob', 'Charlie', 'Charlie', 'David', 'David'],\n",
        "    'Salesperson': ['John', 'Jane', 'Sam', 'Sara', 'Eve', 'Ella', 'Tom', 'Tina'],\n",
        "    'SaleAmount': [1000, 1200, 800, 950, 1300, 1100, 750, 900]\n",
        "}\n",
        "\n",
        "# Create a DataFrame from the sample data\n",
        "df = pd.DataFrame(data)\n",
        "\n",
        "# Create a Pivot table to find total sales amount by Region, Manager, and Salesperson\n",
        "pivot_table = df.pivot_table(index=['Region', 'Manager', 'Salesperson'], values='SaleAmount', aggfunc='sum')\n",
        "\n",
        "# Display the Pivot table\n",
        "print(pivot_table)\n"
      ],
      "metadata": {
        "colab": {
          "base_uri": "https://localhost:8080/"
        },
        "id": "1DkZx5OpTq0O",
        "outputId": "f87c9c92-0a68-4272-c01d-72c54ab77987"
      },
      "execution_count": 2,
      "outputs": [
        {
          "output_type": "stream",
          "name": "stdout",
          "text": [
            "                            SaleAmount\n",
            "Region Manager Salesperson            \n",
            "East   Charlie Ella               1100\n",
            "               Eve                1300\n",
            "North  Alice   Jane               1200\n",
            "               John               1000\n",
            "South  Bob     Sam                 800\n",
            "               Sara                950\n",
            "West   David   Tina                900\n",
            "               Tom                 750\n"
          ]
        }
      ]
    },
    {
      "cell_type": "markdown",
      "source": [
        "10.Create a dataframe of ten rows, four columns with random values. Write a Pandas program to highlight the negative numbers red and positive numbers black."
      ],
      "metadata": {
        "id": "06bpZuJaVyav"
      }
    },
    {
      "cell_type": "code",
      "source": [
        "import pandas as pd\n",
        "import numpy as np\n",
        "\n",
        "# Create a DataFrame with random values\n",
        "data = np.random.randn(10, 4)\n",
        "\n",
        "# Create the DataFrame\n",
        "df = pd.DataFrame(data, columns=['A', 'B', 'C', 'D'])\n",
        "\n",
        "# Define a function to style the DataFrame\n",
        "def highlight_numbers(val):\n",
        "    color = 'color: black' if val >= 0 else 'color: red'\n",
        "    return color\n",
        "\n",
        "# Apply the styling function to the DataFrame\n",
        "styled_df = df.style.applymap(highlight_numbers)\n",
        "\n",
        "# Display the styled DataFrame\n",
        "styled_df\n"
      ],
      "metadata": {
        "colab": {
          "base_uri": "https://localhost:8080/",
          "height": 363
        },
        "id": "ZDU_BP0pV6pN",
        "outputId": "7edf5c39-d17e-4ca7-9710-2ede162bc09f"
      },
      "execution_count": 3,
      "outputs": [
        {
          "output_type": "execute_result",
          "data": {
            "text/plain": [
              "<pandas.io.formats.style.Styler at 0x789364edbaf0>"
            ],
            "text/html": [
              "<style type=\"text/css\">\n",
              "#T_fd546_row0_col0, #T_fd546_row0_col1, #T_fd546_row0_col2, #T_fd546_row1_col1, #T_fd546_row1_col2, #T_fd546_row1_col3, #T_fd546_row2_col1, #T_fd546_row2_col2, #T_fd546_row3_col1, #T_fd546_row3_col2, #T_fd546_row4_col0, #T_fd546_row4_col1, #T_fd546_row4_col2, #T_fd546_row5_col0, #T_fd546_row5_col3, #T_fd546_row6_col0, #T_fd546_row6_col1, #T_fd546_row6_col3, #T_fd546_row7_col0, #T_fd546_row7_col1, #T_fd546_row7_col2, #T_fd546_row8_col2, #T_fd546_row9_col0, #T_fd546_row9_col2, #T_fd546_row9_col3 {\n",
              "  color: black;\n",
              "}\n",
              "#T_fd546_row0_col3, #T_fd546_row1_col0, #T_fd546_row2_col0, #T_fd546_row2_col3, #T_fd546_row3_col0, #T_fd546_row3_col3, #T_fd546_row4_col3, #T_fd546_row5_col1, #T_fd546_row5_col2, #T_fd546_row6_col2, #T_fd546_row7_col3, #T_fd546_row8_col0, #T_fd546_row8_col1, #T_fd546_row8_col3, #T_fd546_row9_col1 {\n",
              "  color: red;\n",
              "}\n",
              "</style>\n",
              "<table id=\"T_fd546\" class=\"dataframe\">\n",
              "  <thead>\n",
              "    <tr>\n",
              "      <th class=\"blank level0\" >&nbsp;</th>\n",
              "      <th id=\"T_fd546_level0_col0\" class=\"col_heading level0 col0\" >A</th>\n",
              "      <th id=\"T_fd546_level0_col1\" class=\"col_heading level0 col1\" >B</th>\n",
              "      <th id=\"T_fd546_level0_col2\" class=\"col_heading level0 col2\" >C</th>\n",
              "      <th id=\"T_fd546_level0_col3\" class=\"col_heading level0 col3\" >D</th>\n",
              "    </tr>\n",
              "  </thead>\n",
              "  <tbody>\n",
              "    <tr>\n",
              "      <th id=\"T_fd546_level0_row0\" class=\"row_heading level0 row0\" >0</th>\n",
              "      <td id=\"T_fd546_row0_col0\" class=\"data row0 col0\" >1.794094</td>\n",
              "      <td id=\"T_fd546_row0_col1\" class=\"data row0 col1\" >1.739362</td>\n",
              "      <td id=\"T_fd546_row0_col2\" class=\"data row0 col2\" >0.639862</td>\n",
              "      <td id=\"T_fd546_row0_col3\" class=\"data row0 col3\" >-0.531581</td>\n",
              "    </tr>\n",
              "    <tr>\n",
              "      <th id=\"T_fd546_level0_row1\" class=\"row_heading level0 row1\" >1</th>\n",
              "      <td id=\"T_fd546_row1_col0\" class=\"data row1 col0\" >-0.376016</td>\n",
              "      <td id=\"T_fd546_row1_col1\" class=\"data row1 col1\" >0.584861</td>\n",
              "      <td id=\"T_fd546_row1_col2\" class=\"data row1 col2\" >0.826873</td>\n",
              "      <td id=\"T_fd546_row1_col3\" class=\"data row1 col3\" >0.073617</td>\n",
              "    </tr>\n",
              "    <tr>\n",
              "      <th id=\"T_fd546_level0_row2\" class=\"row_heading level0 row2\" >2</th>\n",
              "      <td id=\"T_fd546_row2_col0\" class=\"data row2 col0\" >-0.679429</td>\n",
              "      <td id=\"T_fd546_row2_col1\" class=\"data row2 col1\" >0.458662</td>\n",
              "      <td id=\"T_fd546_row2_col2\" class=\"data row2 col2\" >1.460088</td>\n",
              "      <td id=\"T_fd546_row2_col3\" class=\"data row2 col3\" >-0.989981</td>\n",
              "    </tr>\n",
              "    <tr>\n",
              "      <th id=\"T_fd546_level0_row3\" class=\"row_heading level0 row3\" >3</th>\n",
              "      <td id=\"T_fd546_row3_col0\" class=\"data row3 col0\" >-0.453543</td>\n",
              "      <td id=\"T_fd546_row3_col1\" class=\"data row3 col1\" >0.809517</td>\n",
              "      <td id=\"T_fd546_row3_col2\" class=\"data row3 col2\" >0.852177</td>\n",
              "      <td id=\"T_fd546_row3_col3\" class=\"data row3 col3\" >-0.141133</td>\n",
              "    </tr>\n",
              "    <tr>\n",
              "      <th id=\"T_fd546_level0_row4\" class=\"row_heading level0 row4\" >4</th>\n",
              "      <td id=\"T_fd546_row4_col0\" class=\"data row4 col0\" >1.412839</td>\n",
              "      <td id=\"T_fd546_row4_col1\" class=\"data row4 col1\" >0.091660</td>\n",
              "      <td id=\"T_fd546_row4_col2\" class=\"data row4 col2\" >0.968736</td>\n",
              "      <td id=\"T_fd546_row4_col3\" class=\"data row4 col3\" >-0.152740</td>\n",
              "    </tr>\n",
              "    <tr>\n",
              "      <th id=\"T_fd546_level0_row5\" class=\"row_heading level0 row5\" >5</th>\n",
              "      <td id=\"T_fd546_row5_col0\" class=\"data row5 col0\" >0.993975</td>\n",
              "      <td id=\"T_fd546_row5_col1\" class=\"data row5 col1\" >-0.824335</td>\n",
              "      <td id=\"T_fd546_row5_col2\" class=\"data row5 col2\" >-0.014482</td>\n",
              "      <td id=\"T_fd546_row5_col3\" class=\"data row5 col3\" >1.359576</td>\n",
              "    </tr>\n",
              "    <tr>\n",
              "      <th id=\"T_fd546_level0_row6\" class=\"row_heading level0 row6\" >6</th>\n",
              "      <td id=\"T_fd546_row6_col0\" class=\"data row6 col0\" >1.011521</td>\n",
              "      <td id=\"T_fd546_row6_col1\" class=\"data row6 col1\" >1.858471</td>\n",
              "      <td id=\"T_fd546_row6_col2\" class=\"data row6 col2\" >-1.412018</td>\n",
              "      <td id=\"T_fd546_row6_col3\" class=\"data row6 col3\" >0.332400</td>\n",
              "    </tr>\n",
              "    <tr>\n",
              "      <th id=\"T_fd546_level0_row7\" class=\"row_heading level0 row7\" >7</th>\n",
              "      <td id=\"T_fd546_row7_col0\" class=\"data row7 col0\" >0.602937</td>\n",
              "      <td id=\"T_fd546_row7_col1\" class=\"data row7 col1\" >0.448379</td>\n",
              "      <td id=\"T_fd546_row7_col2\" class=\"data row7 col2\" >0.406579</td>\n",
              "      <td id=\"T_fd546_row7_col3\" class=\"data row7 col3\" >-0.039842</td>\n",
              "    </tr>\n",
              "    <tr>\n",
              "      <th id=\"T_fd546_level0_row8\" class=\"row_heading level0 row8\" >8</th>\n",
              "      <td id=\"T_fd546_row8_col0\" class=\"data row8 col0\" >-2.510157</td>\n",
              "      <td id=\"T_fd546_row8_col1\" class=\"data row8 col1\" >-1.734780</td>\n",
              "      <td id=\"T_fd546_row8_col2\" class=\"data row8 col2\" >0.306277</td>\n",
              "      <td id=\"T_fd546_row8_col3\" class=\"data row8 col3\" >-0.020670</td>\n",
              "    </tr>\n",
              "    <tr>\n",
              "      <th id=\"T_fd546_level0_row9\" class=\"row_heading level0 row9\" >9</th>\n",
              "      <td id=\"T_fd546_row9_col0\" class=\"data row9 col0\" >0.871584</td>\n",
              "      <td id=\"T_fd546_row9_col1\" class=\"data row9 col1\" >-0.143083</td>\n",
              "      <td id=\"T_fd546_row9_col2\" class=\"data row9 col2\" >1.695059</td>\n",
              "      <td id=\"T_fd546_row9_col3\" class=\"data row9 col3\" >0.102956</td>\n",
              "    </tr>\n",
              "  </tbody>\n",
              "</table>\n"
            ]
          },
          "metadata": {},
          "execution_count": 3
        }
      ]
    },
    {
      "cell_type": "markdown",
      "source": [
        "11.Create a dataframe of ten rows, four columns with random values. Convert some values to nan values. Write a Pandas program which will highlight the nan values."
      ],
      "metadata": {
        "id": "cQtHNZZ3WTEW"
      }
    },
    {
      "cell_type": "code",
      "source": [
        "import pandas as pd\n",
        "import numpy as np\n",
        "\n",
        "# Create a DataFrame with random values\n",
        "data = np.random.rand(10, 4)\n",
        "\n",
        "# Convert some values to NaN\n",
        "data[np.random.choice([True, False], size=data.shape)] = np.nan\n",
        "\n",
        "# Create the DataFrame\n",
        "df = pd.DataFrame(data, columns=['A', 'B', 'C', 'D'])\n",
        "\n",
        "# Define a function to highlight NaN values\n",
        "def highlight_nan(val):\n",
        "    if pd.isna(val):\n",
        "        return 'background-color: yellow'\n",
        "    return ''\n",
        "\n",
        "# Apply the styling function to the DataFrame\n",
        "styled_df = df.style.applymap(highlight_nan)\n",
        "\n",
        "# Display the styled DataFrame\n",
        "styled_df\n"
      ],
      "metadata": {
        "colab": {
          "base_uri": "https://localhost:8080/",
          "height": 363
        },
        "id": "wb3JG2GNW4Ga",
        "outputId": "6795993e-f249-4351-c3d6-80b80ba2fa49"
      },
      "execution_count": 4,
      "outputs": [
        {
          "output_type": "execute_result",
          "data": {
            "text/plain": [
              "<pandas.io.formats.style.Styler at 0x78933670a5f0>"
            ],
            "text/html": [
              "<style type=\"text/css\">\n",
              "#T_eca89_row0_col0, #T_eca89_row0_col2, #T_eca89_row0_col3, #T_eca89_row1_col2, #T_eca89_row1_col3, #T_eca89_row2_col0, #T_eca89_row2_col1, #T_eca89_row2_col2, #T_eca89_row2_col3, #T_eca89_row3_col1, #T_eca89_row3_col3, #T_eca89_row4_col2, #T_eca89_row4_col3, #T_eca89_row6_col0, #T_eca89_row6_col2, #T_eca89_row7_col3, #T_eca89_row8_col0, #T_eca89_row9_col0, #T_eca89_row9_col1, #T_eca89_row9_col2 {\n",
              "  background-color: yellow;\n",
              "}\n",
              "</style>\n",
              "<table id=\"T_eca89\" class=\"dataframe\">\n",
              "  <thead>\n",
              "    <tr>\n",
              "      <th class=\"blank level0\" >&nbsp;</th>\n",
              "      <th id=\"T_eca89_level0_col0\" class=\"col_heading level0 col0\" >A</th>\n",
              "      <th id=\"T_eca89_level0_col1\" class=\"col_heading level0 col1\" >B</th>\n",
              "      <th id=\"T_eca89_level0_col2\" class=\"col_heading level0 col2\" >C</th>\n",
              "      <th id=\"T_eca89_level0_col3\" class=\"col_heading level0 col3\" >D</th>\n",
              "    </tr>\n",
              "  </thead>\n",
              "  <tbody>\n",
              "    <tr>\n",
              "      <th id=\"T_eca89_level0_row0\" class=\"row_heading level0 row0\" >0</th>\n",
              "      <td id=\"T_eca89_row0_col0\" class=\"data row0 col0\" >nan</td>\n",
              "      <td id=\"T_eca89_row0_col1\" class=\"data row0 col1\" >0.510042</td>\n",
              "      <td id=\"T_eca89_row0_col2\" class=\"data row0 col2\" >nan</td>\n",
              "      <td id=\"T_eca89_row0_col3\" class=\"data row0 col3\" >nan</td>\n",
              "    </tr>\n",
              "    <tr>\n",
              "      <th id=\"T_eca89_level0_row1\" class=\"row_heading level0 row1\" >1</th>\n",
              "      <td id=\"T_eca89_row1_col0\" class=\"data row1 col0\" >0.346386</td>\n",
              "      <td id=\"T_eca89_row1_col1\" class=\"data row1 col1\" >0.679186</td>\n",
              "      <td id=\"T_eca89_row1_col2\" class=\"data row1 col2\" >nan</td>\n",
              "      <td id=\"T_eca89_row1_col3\" class=\"data row1 col3\" >nan</td>\n",
              "    </tr>\n",
              "    <tr>\n",
              "      <th id=\"T_eca89_level0_row2\" class=\"row_heading level0 row2\" >2</th>\n",
              "      <td id=\"T_eca89_row2_col0\" class=\"data row2 col0\" >nan</td>\n",
              "      <td id=\"T_eca89_row2_col1\" class=\"data row2 col1\" >nan</td>\n",
              "      <td id=\"T_eca89_row2_col2\" class=\"data row2 col2\" >nan</td>\n",
              "      <td id=\"T_eca89_row2_col3\" class=\"data row2 col3\" >nan</td>\n",
              "    </tr>\n",
              "    <tr>\n",
              "      <th id=\"T_eca89_level0_row3\" class=\"row_heading level0 row3\" >3</th>\n",
              "      <td id=\"T_eca89_row3_col0\" class=\"data row3 col0\" >0.469748</td>\n",
              "      <td id=\"T_eca89_row3_col1\" class=\"data row3 col1\" >nan</td>\n",
              "      <td id=\"T_eca89_row3_col2\" class=\"data row3 col2\" >0.993620</td>\n",
              "      <td id=\"T_eca89_row3_col3\" class=\"data row3 col3\" >nan</td>\n",
              "    </tr>\n",
              "    <tr>\n",
              "      <th id=\"T_eca89_level0_row4\" class=\"row_heading level0 row4\" >4</th>\n",
              "      <td id=\"T_eca89_row4_col0\" class=\"data row4 col0\" >0.367476</td>\n",
              "      <td id=\"T_eca89_row4_col1\" class=\"data row4 col1\" >0.451836</td>\n",
              "      <td id=\"T_eca89_row4_col2\" class=\"data row4 col2\" >nan</td>\n",
              "      <td id=\"T_eca89_row4_col3\" class=\"data row4 col3\" >nan</td>\n",
              "    </tr>\n",
              "    <tr>\n",
              "      <th id=\"T_eca89_level0_row5\" class=\"row_heading level0 row5\" >5</th>\n",
              "      <td id=\"T_eca89_row5_col0\" class=\"data row5 col0\" >0.658128</td>\n",
              "      <td id=\"T_eca89_row5_col1\" class=\"data row5 col1\" >0.732926</td>\n",
              "      <td id=\"T_eca89_row5_col2\" class=\"data row5 col2\" >0.846451</td>\n",
              "      <td id=\"T_eca89_row5_col3\" class=\"data row5 col3\" >0.244819</td>\n",
              "    </tr>\n",
              "    <tr>\n",
              "      <th id=\"T_eca89_level0_row6\" class=\"row_heading level0 row6\" >6</th>\n",
              "      <td id=\"T_eca89_row6_col0\" class=\"data row6 col0\" >nan</td>\n",
              "      <td id=\"T_eca89_row6_col1\" class=\"data row6 col1\" >0.556685</td>\n",
              "      <td id=\"T_eca89_row6_col2\" class=\"data row6 col2\" >nan</td>\n",
              "      <td id=\"T_eca89_row6_col3\" class=\"data row6 col3\" >0.763344</td>\n",
              "    </tr>\n",
              "    <tr>\n",
              "      <th id=\"T_eca89_level0_row7\" class=\"row_heading level0 row7\" >7</th>\n",
              "      <td id=\"T_eca89_row7_col0\" class=\"data row7 col0\" >0.994632</td>\n",
              "      <td id=\"T_eca89_row7_col1\" class=\"data row7 col1\" >0.233409</td>\n",
              "      <td id=\"T_eca89_row7_col2\" class=\"data row7 col2\" >0.434549</td>\n",
              "      <td id=\"T_eca89_row7_col3\" class=\"data row7 col3\" >nan</td>\n",
              "    </tr>\n",
              "    <tr>\n",
              "      <th id=\"T_eca89_level0_row8\" class=\"row_heading level0 row8\" >8</th>\n",
              "      <td id=\"T_eca89_row8_col0\" class=\"data row8 col0\" >nan</td>\n",
              "      <td id=\"T_eca89_row8_col1\" class=\"data row8 col1\" >0.710254</td>\n",
              "      <td id=\"T_eca89_row8_col2\" class=\"data row8 col2\" >0.473151</td>\n",
              "      <td id=\"T_eca89_row8_col3\" class=\"data row8 col3\" >0.100051</td>\n",
              "    </tr>\n",
              "    <tr>\n",
              "      <th id=\"T_eca89_level0_row9\" class=\"row_heading level0 row9\" >9</th>\n",
              "      <td id=\"T_eca89_row9_col0\" class=\"data row9 col0\" >nan</td>\n",
              "      <td id=\"T_eca89_row9_col1\" class=\"data row9 col1\" >nan</td>\n",
              "      <td id=\"T_eca89_row9_col2\" class=\"data row9 col2\" >nan</td>\n",
              "      <td id=\"T_eca89_row9_col3\" class=\"data row9 col3\" >0.486737</td>\n",
              "    </tr>\n",
              "  </tbody>\n",
              "</table>\n"
            ]
          },
          "metadata": {},
          "execution_count": 4
        }
      ]
    },
    {
      "cell_type": "markdown",
      "source": [
        "12.Create a dataframe of ten rows, four columns with random values. Write a Pandas program to set dataframe background Color black and font color yellow."
      ],
      "metadata": {
        "id": "SU5pbNTvXMle"
      }
    },
    {
      "cell_type": "code",
      "source": [
        "import pandas as pd\n",
        "import numpy as np\n",
        "\n",
        "# Create a DataFrame with random values\n",
        "data = np.random.rand(10, 4)\n",
        "\n",
        "# Create the DataFrame\n",
        "df = pd.DataFrame(data, columns=['A', 'B', 'C', 'D'])\n",
        "\n",
        "# Define a function to set the background color to black and font color to yellow\n",
        "def style_df(val):\n",
        "    return 'background-color: black; color: yellow'\n",
        "\n",
        "# Apply the styling function to the entire DataFrame\n",
        "styled_df = df.style.applymap(style_df)\n",
        "\n",
        "# Display the styled DataFrame\n",
        "styled_df\n"
      ],
      "metadata": {
        "colab": {
          "base_uri": "https://localhost:8080/",
          "height": 363
        },
        "id": "PZmr_YFeXfR7",
        "outputId": "b1deb51d-0796-4f60-9e83-459a09dbda03"
      },
      "execution_count": 5,
      "outputs": [
        {
          "output_type": "execute_result",
          "data": {
            "text/plain": [
              "<pandas.io.formats.style.Styler at 0x789336708c10>"
            ],
            "text/html": [
              "<style type=\"text/css\">\n",
              "#T_dfb9e_row0_col0, #T_dfb9e_row0_col1, #T_dfb9e_row0_col2, #T_dfb9e_row0_col3, #T_dfb9e_row1_col0, #T_dfb9e_row1_col1, #T_dfb9e_row1_col2, #T_dfb9e_row1_col3, #T_dfb9e_row2_col0, #T_dfb9e_row2_col1, #T_dfb9e_row2_col2, #T_dfb9e_row2_col3, #T_dfb9e_row3_col0, #T_dfb9e_row3_col1, #T_dfb9e_row3_col2, #T_dfb9e_row3_col3, #T_dfb9e_row4_col0, #T_dfb9e_row4_col1, #T_dfb9e_row4_col2, #T_dfb9e_row4_col3, #T_dfb9e_row5_col0, #T_dfb9e_row5_col1, #T_dfb9e_row5_col2, #T_dfb9e_row5_col3, #T_dfb9e_row6_col0, #T_dfb9e_row6_col1, #T_dfb9e_row6_col2, #T_dfb9e_row6_col3, #T_dfb9e_row7_col0, #T_dfb9e_row7_col1, #T_dfb9e_row7_col2, #T_dfb9e_row7_col3, #T_dfb9e_row8_col0, #T_dfb9e_row8_col1, #T_dfb9e_row8_col2, #T_dfb9e_row8_col3, #T_dfb9e_row9_col0, #T_dfb9e_row9_col1, #T_dfb9e_row9_col2, #T_dfb9e_row9_col3 {\n",
              "  background-color: black;\n",
              "  color: yellow;\n",
              "}\n",
              "</style>\n",
              "<table id=\"T_dfb9e\" class=\"dataframe\">\n",
              "  <thead>\n",
              "    <tr>\n",
              "      <th class=\"blank level0\" >&nbsp;</th>\n",
              "      <th id=\"T_dfb9e_level0_col0\" class=\"col_heading level0 col0\" >A</th>\n",
              "      <th id=\"T_dfb9e_level0_col1\" class=\"col_heading level0 col1\" >B</th>\n",
              "      <th id=\"T_dfb9e_level0_col2\" class=\"col_heading level0 col2\" >C</th>\n",
              "      <th id=\"T_dfb9e_level0_col3\" class=\"col_heading level0 col3\" >D</th>\n",
              "    </tr>\n",
              "  </thead>\n",
              "  <tbody>\n",
              "    <tr>\n",
              "      <th id=\"T_dfb9e_level0_row0\" class=\"row_heading level0 row0\" >0</th>\n",
              "      <td id=\"T_dfb9e_row0_col0\" class=\"data row0 col0\" >0.445647</td>\n",
              "      <td id=\"T_dfb9e_row0_col1\" class=\"data row0 col1\" >0.976832</td>\n",
              "      <td id=\"T_dfb9e_row0_col2\" class=\"data row0 col2\" >0.061842</td>\n",
              "      <td id=\"T_dfb9e_row0_col3\" class=\"data row0 col3\" >0.799494</td>\n",
              "    </tr>\n",
              "    <tr>\n",
              "      <th id=\"T_dfb9e_level0_row1\" class=\"row_heading level0 row1\" >1</th>\n",
              "      <td id=\"T_dfb9e_row1_col0\" class=\"data row1 col0\" >0.868023</td>\n",
              "      <td id=\"T_dfb9e_row1_col1\" class=\"data row1 col1\" >0.619407</td>\n",
              "      <td id=\"T_dfb9e_row1_col2\" class=\"data row1 col2\" >0.424539</td>\n",
              "      <td id=\"T_dfb9e_row1_col3\" class=\"data row1 col3\" >0.812420</td>\n",
              "    </tr>\n",
              "    <tr>\n",
              "      <th id=\"T_dfb9e_level0_row2\" class=\"row_heading level0 row2\" >2</th>\n",
              "      <td id=\"T_dfb9e_row2_col0\" class=\"data row2 col0\" >0.716348</td>\n",
              "      <td id=\"T_dfb9e_row2_col1\" class=\"data row2 col1\" >0.137705</td>\n",
              "      <td id=\"T_dfb9e_row2_col2\" class=\"data row2 col2\" >0.933957</td>\n",
              "      <td id=\"T_dfb9e_row2_col3\" class=\"data row2 col3\" >0.949055</td>\n",
              "    </tr>\n",
              "    <tr>\n",
              "      <th id=\"T_dfb9e_level0_row3\" class=\"row_heading level0 row3\" >3</th>\n",
              "      <td id=\"T_dfb9e_row3_col0\" class=\"data row3 col0\" >0.935192</td>\n",
              "      <td id=\"T_dfb9e_row3_col1\" class=\"data row3 col1\" >0.268071</td>\n",
              "      <td id=\"T_dfb9e_row3_col2\" class=\"data row3 col2\" >0.394414</td>\n",
              "      <td id=\"T_dfb9e_row3_col3\" class=\"data row3 col3\" >0.896281</td>\n",
              "    </tr>\n",
              "    <tr>\n",
              "      <th id=\"T_dfb9e_level0_row4\" class=\"row_heading level0 row4\" >4</th>\n",
              "      <td id=\"T_dfb9e_row4_col0\" class=\"data row4 col0\" >0.670458</td>\n",
              "      <td id=\"T_dfb9e_row4_col1\" class=\"data row4 col1\" >0.024833</td>\n",
              "      <td id=\"T_dfb9e_row4_col2\" class=\"data row4 col2\" >0.597974</td>\n",
              "      <td id=\"T_dfb9e_row4_col3\" class=\"data row4 col3\" >0.094366</td>\n",
              "    </tr>\n",
              "    <tr>\n",
              "      <th id=\"T_dfb9e_level0_row5\" class=\"row_heading level0 row5\" >5</th>\n",
              "      <td id=\"T_dfb9e_row5_col0\" class=\"data row5 col0\" >0.361516</td>\n",
              "      <td id=\"T_dfb9e_row5_col1\" class=\"data row5 col1\" >0.156100</td>\n",
              "      <td id=\"T_dfb9e_row5_col2\" class=\"data row5 col2\" >0.465090</td>\n",
              "      <td id=\"T_dfb9e_row5_col3\" class=\"data row5 col3\" >0.803134</td>\n",
              "    </tr>\n",
              "    <tr>\n",
              "      <th id=\"T_dfb9e_level0_row6\" class=\"row_heading level0 row6\" >6</th>\n",
              "      <td id=\"T_dfb9e_row6_col0\" class=\"data row6 col0\" >0.363659</td>\n",
              "      <td id=\"T_dfb9e_row6_col1\" class=\"data row6 col1\" >0.268894</td>\n",
              "      <td id=\"T_dfb9e_row6_col2\" class=\"data row6 col2\" >0.698757</td>\n",
              "      <td id=\"T_dfb9e_row6_col3\" class=\"data row6 col3\" >0.298688</td>\n",
              "    </tr>\n",
              "    <tr>\n",
              "      <th id=\"T_dfb9e_level0_row7\" class=\"row_heading level0 row7\" >7</th>\n",
              "      <td id=\"T_dfb9e_row7_col0\" class=\"data row7 col0\" >0.320393</td>\n",
              "      <td id=\"T_dfb9e_row7_col1\" class=\"data row7 col1\" >0.293520</td>\n",
              "      <td id=\"T_dfb9e_row7_col2\" class=\"data row7 col2\" >0.865741</td>\n",
              "      <td id=\"T_dfb9e_row7_col3\" class=\"data row7 col3\" >0.630622</td>\n",
              "    </tr>\n",
              "    <tr>\n",
              "      <th id=\"T_dfb9e_level0_row8\" class=\"row_heading level0 row8\" >8</th>\n",
              "      <td id=\"T_dfb9e_row8_col0\" class=\"data row8 col0\" >0.423073</td>\n",
              "      <td id=\"T_dfb9e_row8_col1\" class=\"data row8 col1\" >0.767249</td>\n",
              "      <td id=\"T_dfb9e_row8_col2\" class=\"data row8 col2\" >0.752176</td>\n",
              "      <td id=\"T_dfb9e_row8_col3\" class=\"data row8 col3\" >0.987924</td>\n",
              "    </tr>\n",
              "    <tr>\n",
              "      <th id=\"T_dfb9e_level0_row9\" class=\"row_heading level0 row9\" >9</th>\n",
              "      <td id=\"T_dfb9e_row9_col0\" class=\"data row9 col0\" >0.212739</td>\n",
              "      <td id=\"T_dfb9e_row9_col1\" class=\"data row9 col1\" >0.175753</td>\n",
              "      <td id=\"T_dfb9e_row9_col2\" class=\"data row9 col2\" >0.886561</td>\n",
              "      <td id=\"T_dfb9e_row9_col3\" class=\"data row9 col3\" >0.849151</td>\n",
              "    </tr>\n",
              "  </tbody>\n",
              "</table>\n"
            ]
          },
          "metadata": {},
          "execution_count": 5
        }
      ]
    },
    {
      "cell_type": "markdown",
      "source": [
        "13.Write a Pandas program to detect missing values of a given DataFrame. Display True or False"
      ],
      "metadata": {
        "id": "rvLCCEFNX5SY"
      }
    },
    {
      "cell_type": "code",
      "source": [
        "import pandas as pd\n",
        "import numpy as np\n",
        "\n",
        "# Create a sample DataFrame with missing values\n",
        "data = {\n",
        "    'order_no': [7001, np.nan,7002, np.nan, 7004,7005,7006,7009,7013],\n",
        "    'pur_amt': [159,220,567,np.nan,np.nan, 2, 3, np.nan, 5],\n",
        "    'order_dte': [2021-10-5,2021-12-9, 2021-11-23,2021-4-11,np.nan,2021-5-26,np.nan,2021-8-7,np.nan],\n",
        "    'customer_data':[3001,3002,3004,3001,3002,3001,3003,3005,3007],\n",
        "    'salesman_id':[5002,5001,5003,5004,5006,np.nan,5002,np.nan,5004]\n",
        "}\n",
        "\n",
        "df = pd.DataFrame(data)\n",
        "print(df)\n",
        "# Detect missing values and display True or False\n",
        "missing_values = df.isna()\n",
        "\n",
        "# Display the result\n",
        "print(missing_values)\n"
      ],
      "metadata": {
        "colab": {
          "base_uri": "https://localhost:8080/"
        },
        "id": "YOWWRazTYdZh",
        "outputId": "9b8da594-39b8-40f4-fb0b-e0df580019e8"
      },
      "execution_count": 7,
      "outputs": [
        {
          "output_type": "stream",
          "name": "stdout",
          "text": [
            "   order_no  pur_amt  order_dte  customer_data  salesman_id\n",
            "0    7001.0    159.0     2006.0           3001       5002.0\n",
            "1       NaN    220.0     2000.0           3002       5001.0\n",
            "2    7002.0    567.0     1987.0           3004       5003.0\n",
            "3       NaN      NaN     2006.0           3001       5004.0\n",
            "4    7004.0      NaN        NaN           3002       5006.0\n",
            "5    7005.0      2.0     1990.0           3001          NaN\n",
            "6    7006.0      3.0        NaN           3003       5002.0\n",
            "7    7009.0      NaN     2006.0           3005          NaN\n",
            "8    7013.0      5.0        NaN           3007       5004.0\n",
            "   order_no  pur_amt  order_dte  customer_data  salesman_id\n",
            "0     False    False      False          False        False\n",
            "1      True    False      False          False        False\n",
            "2     False    False      False          False        False\n",
            "3      True     True      False          False        False\n",
            "4     False     True       True          False        False\n",
            "5     False    False      False          False         True\n",
            "6     False    False       True          False        False\n",
            "7     False     True      False          False         True\n",
            "8     False    False       True          False        False\n"
          ]
        }
      ]
    },
    {
      "cell_type": "markdown",
      "source": [
        "14.Write a Pandas program to find and replace the missing values in a given DataFrame which do not have any valuable information."
      ],
      "metadata": {
        "id": "mGQVv9xObykQ"
      }
    },
    {
      "cell_type": "code",
      "source": [
        "import pandas as pd\n",
        "import numpy as np\n",
        "\n",
        "# Create a sample DataFrame with missing values\n",
        "data = {\n",
        "    'order_no': [7001, np.nan,7002, np.nan, 7004, 7005,7006,7009,7013],\n",
        "    'pur_amt': [159,220,567,np.nan,np.nan, 2, 3, np.nan, 5],\n",
        "    'order_dte': [2021-10-5,2021-12-9, 2021-11-23,2021-4-11,np.nan,2021-5-26,np.nan,2021-8-7,np.nan],\n",
        "    'customer_data':[3001,3002,3004,3001,3002,3001,3003,3005,3007],\n",
        "    'salesman_id':[5002,5001,5003,5004,5006,np.nan,5002,np.nan,5004]\n",
        "}\n",
        "\n",
        "df = pd.DataFrame(data)\n",
        "print(df)\n",
        "df = df.fillna(0)\n",
        "print(df)"
      ],
      "metadata": {
        "colab": {
          "base_uri": "https://localhost:8080/"
        },
        "id": "Iqc6Nd5ncY2F",
        "outputId": "7d62dbe4-4324-4bd2-8854-a6665bdd3d45"
      },
      "execution_count": 8,
      "outputs": [
        {
          "output_type": "stream",
          "name": "stdout",
          "text": [
            "   order_no  pur_amt  order_dte  customer_data  salesman_id\n",
            "0    7001.0    159.0     2006.0           3001       5002.0\n",
            "1       NaN    220.0     2000.0           3002       5001.0\n",
            "2    7002.0    567.0     1987.0           3004       5003.0\n",
            "3       NaN      NaN     2006.0           3001       5004.0\n",
            "4    7004.0      NaN        NaN           3002       5006.0\n",
            "5    7005.0      2.0     1990.0           3001          NaN\n",
            "6    7006.0      3.0        NaN           3003       5002.0\n",
            "7    7009.0      NaN     2006.0           3005          NaN\n",
            "8    7013.0      5.0        NaN           3007       5004.0\n",
            "   order_no  pur_amt  order_dte  customer_data  salesman_id\n",
            "0    7001.0    159.0     2006.0           3001       5002.0\n",
            "1       0.0    220.0     2000.0           3002       5001.0\n",
            "2    7002.0    567.0     1987.0           3004       5003.0\n",
            "3       0.0      0.0     2006.0           3001       5004.0\n",
            "4    7004.0      0.0        0.0           3002       5006.0\n",
            "5    7005.0      2.0     1990.0           3001          0.0\n",
            "6    7006.0      3.0        0.0           3003       5002.0\n",
            "7    7009.0      0.0     2006.0           3005          0.0\n",
            "8    7013.0      5.0        0.0           3007       5004.0\n"
          ]
        }
      ]
    },
    {
      "cell_type": "markdown",
      "source": [
        "15.Write a Pandas program to keep the rows with at least 2 NaN values in a given DataFrame"
      ],
      "metadata": {
        "id": "8UZiVukldTKJ"
      }
    },
    {
      "cell_type": "code",
      "source": [
        "import pandas as pd\n",
        "import numpy as np\n",
        "\n",
        "# Create a sample DataFrame with missing values\n",
        "data = {\n",
        "    'order_no': [7001, np.nan,7002, np.nan, 7004, np.nan,7006,7009,7013],\n",
        "    'pur_amt': [159,220,567,np.nan,np.nan, 2, 3, np.nan, 5],\n",
        "    'order_dte': [2021-10-5,2021-12-9, 2021-11-23,2021-4-11,np.nan,2021-5-26,np.nan,2021-8-7,np.nan],\n",
        "    'customer_data':[3001,3002,3004,3001,3002,3001,3003,3005,3007],\n",
        "    'salesman_id':[5002,5001,np.nan,5004,5006,np.nan,5002,np.nan,5004]\n",
        "}\n",
        "\n",
        "df = pd.DataFrame(data)\n",
        "threshold = 2\n",
        "df_filtered = df.dropna(thresh=threshold)\n",
        "print(df_filtered)"
      ],
      "metadata": {
        "colab": {
          "base_uri": "https://localhost:8080/"
        },
        "id": "PjQKGjTSdf1M",
        "outputId": "1f7bb977-cb8c-48da-ae8c-86d750f3cca7"
      },
      "execution_count": 12,
      "outputs": [
        {
          "output_type": "stream",
          "name": "stdout",
          "text": [
            "   order_no  pur_amt  order_dte  customer_data  salesman_id\n",
            "0    7001.0    159.0     2006.0           3001       5002.0\n",
            "1       NaN    220.0     2000.0           3002       5001.0\n",
            "2    7002.0    567.0     1987.0           3004          NaN\n",
            "3       NaN      NaN     2006.0           3001       5004.0\n",
            "4    7004.0      NaN        NaN           3002       5006.0\n",
            "5       NaN      2.0     1990.0           3001          NaN\n",
            "6    7006.0      3.0        NaN           3003       5002.0\n",
            "7    7009.0      NaN     2006.0           3005          NaN\n",
            "8    7013.0      5.0        NaN           3007       5004.0\n"
          ]
        }
      ]
    },
    {
      "cell_type": "markdown",
      "source": [
        "16.Write a Pandas program to split the following dataframe into groups based on school code. Also check the type of GroupBy object."
      ],
      "metadata": {
        "id": "CENUbxkDeOOR"
      }
    },
    {
      "cell_type": "code",
      "source": [
        "import pandas as pd\n",
        "\n",
        "# Create a sample DataFrame\n",
        "data = {\n",
        "    'Student': ['Alice', 'Bob', 'Charlie', 'David', 'Eve'],\n",
        "    'School Code': ['S001', 'S002', 'S001', 'S003', 'S002'],\n",
        "    'Age': [25, 24, 22, 23, 26],\n",
        "    'height':[165,155,145,170,176],\n",
        "    'weight':[58,56,66,69,65],\n",
        "    'class':[8,9,8,9,10]\n",
        "}\n",
        "\n",
        "df = pd.DataFrame(data)\n",
        "print(df)\n",
        "# Group the DataFrame by 'School Code'\n",
        "grouped = df.groupby('School Code')\n",
        "\n",
        "# Check the type of the GroupBy object\n",
        "print(type(grouped))\n"
      ],
      "metadata": {
        "colab": {
          "base_uri": "https://localhost:8080/"
        },
        "id": "SoBtjWUyevdn",
        "outputId": "b20f84c8-7451-49f3-8c46-4cef6f8dfb13"
      },
      "execution_count": 14,
      "outputs": [
        {
          "output_type": "stream",
          "name": "stdout",
          "text": [
            "   Student School Code  Age  height  weight  class\n",
            "0    Alice        S001   25     165      58      8\n",
            "1      Bob        S002   24     155      56      9\n",
            "2  Charlie        S001   22     145      66      8\n",
            "3    David        S003   23     170      69      9\n",
            "4      Eve        S002   26     176      65     10\n",
            "<class 'pandas.core.groupby.generic.DataFrameGroupBy'>\n"
          ]
        }
      ]
    }
  ]
}